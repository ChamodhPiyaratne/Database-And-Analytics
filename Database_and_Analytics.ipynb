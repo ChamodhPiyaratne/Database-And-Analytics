{
  "nbformat": 4,
  "nbformat_minor": 0,
  "metadata": {
    "colab": {
      "provenance": [],
      "authorship_tag": "ABX9TyPmeBsMaQQJIvDk2nE2SPfj",
      "include_colab_link": true
    },
    "kernelspec": {
      "name": "ir",
      "display_name": "R"
    },
    "language_info": {
      "name": "R"
    }
  },
  "cells": [
    {
      "cell_type": "markdown",
      "metadata": {
        "id": "view-in-github",
        "colab_type": "text"
      },
      "source": [
        "<a href=\"https://colab.research.google.com/github/ChamodhPiyaratne/Database-And-Analytics/blob/main/Database_and_Analytics.ipynb\" target=\"_parent\"><img src=\"https://colab.research.google.com/assets/colab-badge.svg\" alt=\"Open In Colab\"/></a>"
      ]
    },
    {
      "cell_type": "code",
      "execution_count": 10,
      "metadata": {
        "colab": {
          "base_uri": "https://localhost:8080/"
        },
        "id": "3gjWlq7UdrbA",
        "outputId": "eb29643d-725f-409c-f8c5-7f8634ca18f3"
      },
      "outputs": [
        {
          "output_type": "stream",
          "name": "stderr",
          "text": [
            "Installing package into ‘/usr/local/lib/R/site-library’\n",
            "(as ‘lib’ is unspecified)\n",
            "\n",
            "also installing the dependency ‘bitops’\n",
            "\n",
            "\n"
          ]
        }
      ],
      "source": [
        "install.packages(\"RCurl\")"
      ]
    },
    {
      "cell_type": "markdown",
      "source": [
        "In order to upload the '.csv' file energy_dataset we can use the RCurl package which can be used to transfer data using urls, for this purpose we will be taking in file energy_dataset from our github repository."
      ],
      "metadata": {
        "id": "3lQARKskd9ih"
      }
    },
    {
      "cell_type": "code",
      "source": [
        "# Call in the RCurl library to import the dataset\n",
        "library(RCurl)\n",
        "\n",
        "# import the csv file from the github repository to the variable 'energy_dataset'\n",
        "dataset <- \"https://raw.githubusercontent.com/ChamodhPiyaratne/Database-And-Analytics/main/Energy_dataset.csv\"\n",
        "\n",
        "# Read the CSV content directly from the retrieved text\n",
        "energy_dataset <- read.csv(text = getURL(dataset))\n",
        "\n",
        "# Display the first 10 rows of the dataset\n",
        "print(head(energy_dataset, 10))\n"
      ],
      "metadata": {
        "colab": {
          "base_uri": "https://localhost:8080/"
        },
        "id": "RYrIqRkceNS6",
        "outputId": "b62b7d4a-5ea9-4a20-bbc7-a4fc6f3f731b"
      },
      "execution_count": 11,
      "outputs": [
        {
          "output_type": "stream",
          "name": "stderr",
          "text": [
            "\n",
            "Attaching package: ‘RCurl’\n",
            "\n",
            "\n",
            "The following object is masked from ‘package:tidyr’:\n",
            "\n",
            "    complete\n",
            "\n",
            "\n"
          ]
        },
        {
          "output_type": "stream",
          "name": "stdout",
          "text": [
            "   Relative.Compactness Surface.Area Wall.Area Roof.Area Overall.Height\n",
            "1                  0.98        514.5     294.0    110.25              7\n",
            "2                  0.98        514.5     294.0    110.25              7\n",
            "3                  0.98        514.5     294.0    110.25              7\n",
            "4                  0.98        514.5     294.0    110.25              7\n",
            "5                  0.90        563.5     318.5    122.50              7\n",
            "6                  0.90        563.5     318.5    122.50              7\n",
            "7                  0.90        563.5     318.5    122.50              7\n",
            "8                  0.90        563.5     318.5    122.50              7\n",
            "9                  0.86        588.0     294.0    147.00              7\n",
            "10                 0.86        588.0     294.0    147.00              7\n",
            "   Orientation Glazing.Area Glazing.Area.Distribution Heating.Load Cooling.Load\n",
            "1            2            0                         0        15.55        21.33\n",
            "2            3            0                         0        15.55        21.33\n",
            "3            4            0                         0        15.55        21.33\n",
            "4            5            0                         0        15.55        21.33\n",
            "5            2            0                         0        20.84        28.28\n",
            "6            3            0                         0        21.46        25.38\n",
            "7            4            0                         0        20.71        25.16\n",
            "8            5            0                         0        19.68        29.60\n",
            "9            2            0                         0        19.50        27.30\n",
            "10           3            0                         0        19.95        21.97\n"
          ]
        }
      ]
    },
    {
      "cell_type": "markdown",
      "source": [
        "The above code shows the process of using RCurl to import the dataset and will be processed as a '.csv' file, the first 10 rows of the dataset are shown below"
      ],
      "metadata": {
        "id": "Gq9oQRHFebY4"
      }
    },
    {
      "cell_type": "code",
      "source": [
        "install.packages('sqldf')"
      ],
      "metadata": {
        "colab": {
          "base_uri": "https://localhost:8080/"
        },
        "id": "1BKMjiQ7edBR",
        "outputId": "e84696c7-8788-41db-c705-0b38df5443ae"
      },
      "execution_count": 15,
      "outputs": [
        {
          "output_type": "stream",
          "name": "stderr",
          "text": [
            "Installing package into ‘/usr/local/lib/R/site-library’\n",
            "(as ‘lib’ is unspecified)\n",
            "\n",
            "also installing the dependencies ‘plogr’, ‘gsubfn’, ‘proto’, ‘RSQLite’, ‘chron’\n",
            "\n",
            "\n"
          ]
        }
      ]
    },
    {
      "cell_type": "markdown",
      "source": [
        "The above installs the 'sqldf' package which will be used to run the SQL **queries**\n"
      ],
      "metadata": {
        "id": "g-gZk603eiEL"
      }
    },
    {
      "cell_type": "code",
      "source": [
        "library(sqldf)"
      ],
      "metadata": {
        "colab": {
          "base_uri": "https://localhost:8080/"
        },
        "id": "xZW_QA6xfzcJ",
        "outputId": "22f844ef-d3d2-4c63-9ea0-c94a6eba0a75"
      },
      "execution_count": 16,
      "outputs": [
        {
          "output_type": "stream",
          "name": "stderr",
          "text": [
            "Loading required package: gsubfn\n",
            "\n",
            "Loading required package: proto\n",
            "\n",
            "Warning message:\n",
            "“no DISPLAY variable so Tk is not available”\n",
            "Loading required package: RSQLite\n",
            "\n"
          ]
        }
      ]
    },
    {
      "cell_type": "markdown",
      "source": [
        "Calling in the sqldf library to run the SQL queries"
      ],
      "metadata": {
        "id": "gjnuEYHegHS4"
      }
    },
    {
      "cell_type": "code",
      "source": [
        "Result <- sqldf(\"\n",
        "  SELECT\n",
        "    `Surface.Area`,\n",
        "    `Wall.Area`\n",
        "  FROM\n",
        "    energy_dataset\n",
        "  WHERE\n",
        "    `Relative.Compactness` > 0.97 and Orientation = 3\")\n",
        "print(Result)"
      ],
      "metadata": {
        "colab": {
          "base_uri": "https://localhost:8080/"
        },
        "id": "u9c7d-uKi2Q5",
        "outputId": "04c8ad7a-d822-4042-d686-abe691500236"
      },
      "execution_count": 36,
      "outputs": [
        {
          "output_type": "stream",
          "name": "stdout",
          "text": [
            "   Surface.Area Wall.Area\n",
            "1         514.5       294\n",
            "2         514.5       294\n",
            "3         514.5       294\n",
            "4         514.5       294\n",
            "5         514.5       294\n",
            "6         514.5       294\n",
            "7         514.5       294\n",
            "8         514.5       294\n",
            "9         514.5       294\n",
            "10        514.5       294\n",
            "11        514.5       294\n",
            "12        514.5       294\n",
            "13        514.5       294\n",
            "14        514.5       294\n",
            "15        514.5       294\n",
            "16        514.5       294\n"
          ]
        }
      ]
    },
    {
      "cell_type": "markdown",
      "source": [
        "The above code is used to call in certain rows and colums that meet the criteria given by the 'where' argument and should meet both criterias due to 'and' argument"
      ],
      "metadata": {
        "id": "S_65sGkSjSsa"
      }
    },
    {
      "cell_type": "code",
      "source": [
        "Result <- sqldf(\"\n",
        "  SELECT\n",
        "    AVG(`Relative.Compactness`) AS Avg_Relative_Compactness,\n",
        "    SUM(`Heating.Load`) AS Total_Heating_Load,\n",
        "    Max(`Cooling.Load`) AS Maximum_Cooling_Load\n",
        "  FROM\n",
        "    energy_dataset GROUP BY Orientation\")\n",
        "print(Result)"
      ],
      "metadata": {
        "colab": {
          "base_uri": "https://localhost:8080/"
        },
        "id": "G7KTufqajNtI",
        "outputId": "9c5cf3ee-32fb-409f-d100-fc73bf7f73d0"
      },
      "execution_count": 33,
      "outputs": [
        {
          "output_type": "stream",
          "name": "stdout",
          "text": [
            "  Avg_Relative_Compactness Total_Heating_Load Maximum_Cooling_Load\n",
            "1                0.7641667            4284.07                46.44\n",
            "2                0.7641667            4297.09                47.59\n",
            "3                0.7641667            4273.90                47.01\n",
            "4                0.7641667            4276.87                48.03\n"
          ]
        }
      ]
    },
    {
      "cell_type": "markdown",
      "source": [
        "The above code shows aggregate functions being done and the results are grouped by the **orientation** values"
      ],
      "metadata": {
        "id": "mFxngJXmnWaw"
      }
    },
    {
      "cell_type": "code",
      "source": [
        "Result <- sqldf(\"\n",
        "  SELECT\n",
        "    COUNT(*) AS total_rows,\n",
        "    CEIL(SUM(`surface.area`)) AS total_surface_area,\n",
        "    ABS(AVG(`heating.load`)) AS average_heating_load\n",
        "  FROM\n",
        "    energy_dataset\")\n",
        "print(Result)"
      ],
      "metadata": {
        "colab": {
          "base_uri": "https://localhost:8080/"
        },
        "id": "ebAeOYFRnjGg",
        "outputId": "0b912726-4c32-4127-862a-d09f2c58be35"
      },
      "execution_count": 41,
      "outputs": [
        {
          "output_type": "stream",
          "name": "stdout",
          "text": [
            "  total_rows total_surface_area average_heating_load\n",
            "1        768             515872              22.3072\n"
          ]
        }
      ]
    },
    {
      "cell_type": "markdown",
      "source": [
        "The above code shows arithmetic functions being done on the values produced by the aggregate functions."
      ],
      "metadata": {
        "id": "evQ4MFeRoie6"
      }
    },
    {
      "cell_type": "code",
      "source": [
        "install.packages(\"dplyr\")"
      ],
      "metadata": {
        "colab": {
          "base_uri": "https://localhost:8080/"
        },
        "id": "N6H26K9YI3e4",
        "outputId": "9df7efff-fafc-4306-c71a-9089c6c8e64c"
      },
      "execution_count": 43,
      "outputs": [
        {
          "output_type": "stream",
          "name": "stderr",
          "text": [
            "Installing package into ‘/usr/local/lib/R/site-library’\n",
            "(as ‘lib’ is unspecified)\n",
            "\n"
          ]
        }
      ]
    },
    {
      "cell_type": "code",
      "source": [
        "library(dplyr)"
      ],
      "metadata": {
        "id": "ungHSKafJExn"
      },
      "execution_count": 7,
      "outputs": []
    },
    {
      "cell_type": "markdown",
      "source": [
        "Above 2 code snippets show the installation of Dplyr and calling it. Dplyr provides a set of functions for manipulating data frames"
      ],
      "metadata": {
        "id": "S5CztYqR82SX"
      }
    },
    {
      "cell_type": "code",
      "source": [
        "filtered_data <- energy_dataset %>%\n",
        "  filter(Orientation > 4)\n",
        "\n",
        "\n",
        "print(filtered_data)"
      ],
      "metadata": {
        "colab": {
          "base_uri": "https://localhost:8080/"
        },
        "id": "DSrtGewfpWNo",
        "outputId": "0e348227-4bba-43a7-8334-af896329ec03"
      },
      "execution_count": 46,
      "outputs": [
        {
          "output_type": "stream",
          "name": "stdout",
          "text": [
            "    Relative.Compactness Surface.Area Wall.Area Roof.Area Overall.Height\n",
            "1                   0.98        514.5     294.0    110.25            7.0\n",
            "2                   0.90        563.5     318.5    122.50            7.0\n",
            "3                   0.86        588.0     294.0    147.00            7.0\n",
            "4                   0.82        612.5     318.5    147.00            7.0\n",
            "5                   0.79        637.0     343.0    147.00            7.0\n",
            "6                   0.76        661.5     416.5    122.50            7.0\n",
            "7                   0.74        686.0     245.0    220.50            3.5\n",
            "8                   0.71        710.5     269.5    220.50            3.5\n",
            "9                   0.69        735.0     294.0    220.50            3.5\n",
            "10                  0.66        759.5     318.5    220.50            3.5\n",
            "11                  0.64        784.0     343.0    220.50            3.5\n",
            "12                  0.62        808.5     367.5    220.50            3.5\n",
            "13                  0.98        514.5     294.0    110.25            7.0\n",
            "14                  0.90        563.5     318.5    122.50            7.0\n",
            "15                  0.86        588.0     294.0    147.00            7.0\n",
            "16                  0.82        612.5     318.5    147.00            7.0\n",
            "17                  0.79        637.0     343.0    147.00            7.0\n",
            "18                  0.76        661.5     416.5    122.50            7.0\n",
            "19                  0.74        686.0     245.0    220.50            3.5\n",
            "20                  0.71        710.5     269.5    220.50            3.5\n",
            "21                  0.69        735.0     294.0    220.50            3.5\n",
            "22                  0.66        759.5     318.5    220.50            3.5\n",
            "23                  0.64        784.0     343.0    220.50            3.5\n",
            "24                  0.62        808.5     367.5    220.50            3.5\n",
            "25                  0.98        514.5     294.0    110.25            7.0\n",
            "26                  0.90        563.5     318.5    122.50            7.0\n",
            "27                  0.86        588.0     294.0    147.00            7.0\n",
            "28                  0.82        612.5     318.5    147.00            7.0\n",
            "29                  0.79        637.0     343.0    147.00            7.0\n",
            "30                  0.76        661.5     416.5    122.50            7.0\n",
            "31                  0.74        686.0     245.0    220.50            3.5\n",
            "32                  0.71        710.5     269.5    220.50            3.5\n",
            "33                  0.69        735.0     294.0    220.50            3.5\n",
            "34                  0.66        759.5     318.5    220.50            3.5\n",
            "35                  0.64        784.0     343.0    220.50            3.5\n",
            "36                  0.62        808.5     367.5    220.50            3.5\n",
            "37                  0.98        514.5     294.0    110.25            7.0\n",
            "38                  0.90        563.5     318.5    122.50            7.0\n",
            "39                  0.86        588.0     294.0    147.00            7.0\n",
            "40                  0.82        612.5     318.5    147.00            7.0\n",
            "41                  0.79        637.0     343.0    147.00            7.0\n",
            "42                  0.76        661.5     416.5    122.50            7.0\n",
            "43                  0.74        686.0     245.0    220.50            3.5\n",
            "44                  0.71        710.5     269.5    220.50            3.5\n",
            "45                  0.69        735.0     294.0    220.50            3.5\n",
            "46                  0.66        759.5     318.5    220.50            3.5\n",
            "47                  0.64        784.0     343.0    220.50            3.5\n",
            "48                  0.62        808.5     367.5    220.50            3.5\n",
            "49                  0.98        514.5     294.0    110.25            7.0\n",
            "50                  0.90        563.5     318.5    122.50            7.0\n",
            "51                  0.86        588.0     294.0    147.00            7.0\n",
            "52                  0.82        612.5     318.5    147.00            7.0\n",
            "53                  0.79        637.0     343.0    147.00            7.0\n",
            "54                  0.76        661.5     416.5    122.50            7.0\n",
            "55                  0.74        686.0     245.0    220.50            3.5\n",
            "56                  0.71        710.5     269.5    220.50            3.5\n",
            "57                  0.69        735.0     294.0    220.50            3.5\n",
            "58                  0.66        759.5     318.5    220.50            3.5\n",
            "59                  0.64        784.0     343.0    220.50            3.5\n",
            "60                  0.62        808.5     367.5    220.50            3.5\n",
            "61                  0.98        514.5     294.0    110.25            7.0\n",
            "62                  0.90        563.5     318.5    122.50            7.0\n",
            "63                  0.86        588.0     294.0    147.00            7.0\n",
            "64                  0.82        612.5     318.5    147.00            7.0\n",
            "65                  0.79        637.0     343.0    147.00            7.0\n",
            "66                  0.76        661.5     416.5    122.50            7.0\n",
            "67                  0.74        686.0     245.0    220.50            3.5\n",
            "68                  0.71        710.5     269.5    220.50            3.5\n",
            "69                  0.69        735.0     294.0    220.50            3.5\n",
            "70                  0.66        759.5     318.5    220.50            3.5\n",
            "71                  0.64        784.0     343.0    220.50            3.5\n",
            "72                  0.62        808.5     367.5    220.50            3.5\n",
            "73                  0.98        514.5     294.0    110.25            7.0\n",
            "74                  0.90        563.5     318.5    122.50            7.0\n",
            "75                  0.86        588.0     294.0    147.00            7.0\n",
            "76                  0.82        612.5     318.5    147.00            7.0\n",
            "77                  0.79        637.0     343.0    147.00            7.0\n",
            "78                  0.76        661.5     416.5    122.50            7.0\n",
            "79                  0.74        686.0     245.0    220.50            3.5\n",
            "80                  0.71        710.5     269.5    220.50            3.5\n",
            "81                  0.69        735.0     294.0    220.50            3.5\n",
            "82                  0.66        759.5     318.5    220.50            3.5\n",
            "83                  0.64        784.0     343.0    220.50            3.5\n",
            "84                  0.62        808.5     367.5    220.50            3.5\n",
            "85                  0.98        514.5     294.0    110.25            7.0\n",
            "86                  0.90        563.5     318.5    122.50            7.0\n",
            "87                  0.86        588.0     294.0    147.00            7.0\n",
            "88                  0.82        612.5     318.5    147.00            7.0\n",
            "89                  0.79        637.0     343.0    147.00            7.0\n",
            "90                  0.76        661.5     416.5    122.50            7.0\n",
            "91                  0.74        686.0     245.0    220.50            3.5\n",
            "92                  0.71        710.5     269.5    220.50            3.5\n",
            "93                  0.69        735.0     294.0    220.50            3.5\n",
            "94                  0.66        759.5     318.5    220.50            3.5\n",
            "95                  0.64        784.0     343.0    220.50            3.5\n",
            "96                  0.62        808.5     367.5    220.50            3.5\n",
            "97                  0.98        514.5     294.0    110.25            7.0\n",
            "98                  0.90        563.5     318.5    122.50            7.0\n",
            "99                  0.86        588.0     294.0    147.00            7.0\n",
            "100                 0.82        612.5     318.5    147.00            7.0\n",
            "101                 0.79        637.0     343.0    147.00            7.0\n",
            "102                 0.76        661.5     416.5    122.50            7.0\n",
            "103                 0.74        686.0     245.0    220.50            3.5\n",
            "104                 0.71        710.5     269.5    220.50            3.5\n",
            "105                 0.69        735.0     294.0    220.50            3.5\n",
            "106                 0.66        759.5     318.5    220.50            3.5\n",
            "107                 0.64        784.0     343.0    220.50            3.5\n",
            "108                 0.62        808.5     367.5    220.50            3.5\n",
            "109                 0.98        514.5     294.0    110.25            7.0\n",
            "110                 0.90        563.5     318.5    122.50            7.0\n",
            "111                 0.86        588.0     294.0    147.00            7.0\n",
            "112                 0.82        612.5     318.5    147.00            7.0\n",
            "113                 0.79        637.0     343.0    147.00            7.0\n",
            "114                 0.76        661.5     416.5    122.50            7.0\n",
            "115                 0.74        686.0     245.0    220.50            3.5\n",
            "116                 0.71        710.5     269.5    220.50            3.5\n",
            "117                 0.69        735.0     294.0    220.50            3.5\n",
            "118                 0.66        759.5     318.5    220.50            3.5\n",
            "119                 0.64        784.0     343.0    220.50            3.5\n",
            "120                 0.62        808.5     367.5    220.50            3.5\n",
            "121                 0.98        514.5     294.0    110.25            7.0\n",
            "122                 0.90        563.5     318.5    122.50            7.0\n",
            "123                 0.86        588.0     294.0    147.00            7.0\n",
            "124                 0.82        612.5     318.5    147.00            7.0\n",
            "125                 0.79        637.0     343.0    147.00            7.0\n",
            "126                 0.76        661.5     416.5    122.50            7.0\n",
            "127                 0.74        686.0     245.0    220.50            3.5\n",
            "128                 0.71        710.5     269.5    220.50            3.5\n",
            "129                 0.69        735.0     294.0    220.50            3.5\n",
            "130                 0.66        759.5     318.5    220.50            3.5\n",
            "131                 0.64        784.0     343.0    220.50            3.5\n",
            "132                 0.62        808.5     367.5    220.50            3.5\n",
            "133                 0.98        514.5     294.0    110.25            7.0\n",
            "134                 0.90        563.5     318.5    122.50            7.0\n",
            "135                 0.86        588.0     294.0    147.00            7.0\n",
            "136                 0.82        612.5     318.5    147.00            7.0\n",
            "137                 0.79        637.0     343.0    147.00            7.0\n",
            "138                 0.76        661.5     416.5    122.50            7.0\n",
            "139                 0.74        686.0     245.0    220.50            3.5\n",
            "140                 0.71        710.5     269.5    220.50            3.5\n",
            "141                 0.69        735.0     294.0    220.50            3.5\n",
            "142                 0.66        759.5     318.5    220.50            3.5\n",
            "143                 0.64        784.0     343.0    220.50            3.5\n",
            "144                 0.62        808.5     367.5    220.50            3.5\n",
            "145                 0.98        514.5     294.0    110.25            7.0\n",
            "146                 0.90        563.5     318.5    122.50            7.0\n",
            "147                 0.86        588.0     294.0    147.00            7.0\n",
            "148                 0.82        612.5     318.5    147.00            7.0\n",
            "149                 0.79        637.0     343.0    147.00            7.0\n",
            "150                 0.76        661.5     416.5    122.50            7.0\n",
            "151                 0.74        686.0     245.0    220.50            3.5\n",
            "152                 0.71        710.5     269.5    220.50            3.5\n",
            "153                 0.69        735.0     294.0    220.50            3.5\n",
            "154                 0.66        759.5     318.5    220.50            3.5\n",
            "155                 0.64        784.0     343.0    220.50            3.5\n",
            "156                 0.62        808.5     367.5    220.50            3.5\n",
            "157                 0.98        514.5     294.0    110.25            7.0\n",
            "158                 0.90        563.5     318.5    122.50            7.0\n",
            "159                 0.86        588.0     294.0    147.00            7.0\n",
            "160                 0.82        612.5     318.5    147.00            7.0\n",
            "161                 0.79        637.0     343.0    147.00            7.0\n",
            "162                 0.76        661.5     416.5    122.50            7.0\n",
            "163                 0.74        686.0     245.0    220.50            3.5\n",
            "164                 0.71        710.5     269.5    220.50            3.5\n",
            "165                 0.69        735.0     294.0    220.50            3.5\n",
            "166                 0.66        759.5     318.5    220.50            3.5\n",
            "167                 0.64        784.0     343.0    220.50            3.5\n",
            "168                 0.62        808.5     367.5    220.50            3.5\n",
            "169                 0.98        514.5     294.0    110.25            7.0\n",
            "170                 0.90        563.5     318.5    122.50            7.0\n",
            "171                 0.86        588.0     294.0    147.00            7.0\n",
            "172                 0.82        612.5     318.5    147.00            7.0\n",
            "173                 0.79        637.0     343.0    147.00            7.0\n",
            "174                 0.76        661.5     416.5    122.50            7.0\n",
            "175                 0.74        686.0     245.0    220.50            3.5\n",
            "176                 0.71        710.5     269.5    220.50            3.5\n",
            "177                 0.69        735.0     294.0    220.50            3.5\n",
            "178                 0.66        759.5     318.5    220.50            3.5\n",
            "179                 0.64        784.0     343.0    220.50            3.5\n",
            "180                 0.62        808.5     367.5    220.50            3.5\n",
            "181                 0.98        514.5     294.0    110.25            7.0\n",
            "182                 0.90        563.5     318.5    122.50            7.0\n",
            "183                 0.86        588.0     294.0    147.00            7.0\n",
            "184                 0.82        612.5     318.5    147.00            7.0\n",
            "185                 0.79        637.0     343.0    147.00            7.0\n",
            "186                 0.76        661.5     416.5    122.50            7.0\n",
            "187                 0.74        686.0     245.0    220.50            3.5\n",
            "188                 0.71        710.5     269.5    220.50            3.5\n",
            "189                 0.69        735.0     294.0    220.50            3.5\n",
            "190                 0.66        759.5     318.5    220.50            3.5\n",
            "191                 0.64        784.0     343.0    220.50            3.5\n",
            "192                 0.62        808.5     367.5    220.50            3.5\n",
            "    Orientation Glazing.Area Glazing.Area.Distribution Heating.Load\n",
            "1             5         0.00                         0        15.55\n",
            "2             5         0.00                         0        19.68\n",
            "3             5         0.00                         0        18.31\n",
            "4             5         0.00                         0        15.98\n",
            "5             5         0.00                         0        28.75\n",
            "6             5         0.00                         0        23.93\n",
            "7             5         0.00                         0         6.04\n",
            "8             5         0.00                         0         6.40\n",
            "9             5         0.00                         0         6.81\n",
            "10            5         0.00                         0         7.10\n",
            "11            5         0.00                         0        10.56\n",
            "12            5         0.00                         0         8.50\n",
            "13            5         0.10                         1        24.59\n",
            "14            5         0.10                         1        28.09\n",
            "15            5         0.10                         1        25.27\n",
            "16            5         0.10                         1        22.58\n",
            "17            5         0.10                         1        35.94\n",
            "18            5         0.10                         1        32.21\n",
            "19            5         0.10                         1        10.39\n",
            "20            5         0.10                         1        10.75\n",
            "21            5         0.10                         1        11.16\n",
            "22            5         0.10                         1        11.69\n",
            "23            5         0.10                         1        15.21\n",
            "24            5         0.10                         1        13.02\n",
            "25            5         0.10                         2        24.25\n",
            "26            5         0.10                         2        27.90\n",
            "27            5         0.10                         2        25.36\n",
            "28            5         0.10                         2        22.79\n",
            "29            5         0.10                         2        36.03\n",
            "30            5         0.10                         2        32.41\n",
            "31            5         0.10                         2        10.45\n",
            "32            5         0.10                         2        10.68\n",
            "33            5         0.10                         2        11.49\n",
            "34            5         0.10                         2        11.43\n",
            "35            5         0.10                         2        15.19\n",
            "36            5         0.10                         2        13.04\n",
            "37            5         0.10                         3        24.35\n",
            "38            5         0.10                         3        29.05\n",
            "39            5         0.10                         3        26.46\n",
            "40            5         0.10                         3        23.87\n",
            "41            5         0.10                         3        36.70\n",
            "42            5         0.10                         3        33.24\n",
            "43            5         0.10                         3        10.38\n",
            "44            5         0.10                         3        10.70\n",
            "45            5         0.10                         3        11.14\n",
            "46            5         0.10                         3        11.61\n",
            "47            5         0.10                         3        15.36\n",
            "48            5         0.10                         3        12.73\n",
            "49            5         0.10                         4        24.32\n",
            "50            5         0.10                         4        29.79\n",
            "51            5         0.10                         4        27.03\n",
            "52            5         0.10                         4        24.24\n",
            "53            5         0.10                         4        37.10\n",
            "54            5         0.10                         4        32.31\n",
            "55            5         0.10                         4        10.14\n",
            "56            5         0.10                         4        10.72\n",
            "57            5         0.10                         4        11.20\n",
            "58            5         0.10                         4        11.43\n",
            "59            5         0.10                         4        15.16\n",
            "60            5         0.10                         4        13.00\n",
            "61            5         0.10                         5        24.26\n",
            "62            5         0.10                         5        29.02\n",
            "63            5         0.10                         5        26.45\n",
            "64            5         0.10                         5        23.86\n",
            "65            5         0.10                         5        35.48\n",
            "66            5         0.10                         5        33.27\n",
            "67            5         0.10                         5        10.39\n",
            "68            5         0.10                         5        13.69\n",
            "69            5         0.10                         5        11.16\n",
            "70            5         0.10                         5        11.34\n",
            "71            5         0.10                         5        15.36\n",
            "72            5         0.10                         5        12.62\n",
            "73            5         0.25                         1        28.41\n",
            "74            5         0.25                         1        32.00\n",
            "75            5         0.25                         1        28.66\n",
            "76            5         0.25                         1        26.19\n",
            "77            5         0.25                         1        39.04\n",
            "78            5         0.25                         1        36.43\n",
            "79            5         0.25                         1        12.45\n",
            "80            5         0.25                         1        12.63\n",
            "81            5         0.25                         1        12.72\n",
            "82            5         0.25                         1        13.18\n",
            "83            5         0.25                         1        17.37\n",
            "84            5         0.25                         1        15.16\n",
            "85            5         0.25                         2        28.60\n",
            "86            5         0.25                         2        31.66\n",
            "87            5         0.25                         2        28.40\n",
            "88            5         0.25                         2        24.94\n",
            "89            5         0.25                         2        38.98\n",
            "90            5         0.25                         2        36.45\n",
            "91            5         0.25                         2        12.30\n",
            "92            5         0.25                         2        12.49\n",
            "93            5         0.25                         2        12.95\n",
            "94            5         0.25                         2        13.00\n",
            "95            5         0.25                         2        17.11\n",
            "96            5         0.25                         2        14.60\n",
            "97            5         0.25                         3        28.63\n",
            "98            5         0.25                         3        32.29\n",
            "99            5         0.25                         3        29.07\n",
            "100           5         0.25                         3        25.17\n",
            "101           5         0.25                         3        39.83\n",
            "102           5         0.25                         3        36.52\n",
            "103           5         0.25                         3        11.69\n",
            "104           5         0.25                         3        12.19\n",
            "105           5         0.25                         3        12.12\n",
            "106           5         0.25                         3        12.84\n",
            "107           5         0.25                         3        16.86\n",
            "108           5         0.25                         3        13.99\n",
            "109           5         0.25                         4        28.62\n",
            "110           5         0.25                         4        33.28\n",
            "111           5         0.25                         4        29.88\n",
            "112           5         0.25                         4        26.00\n",
            "113           5         0.25                         4        40.12\n",
            "114           5         0.25                         4        36.26\n",
            "115           5         0.25                         4        12.43\n",
            "116           5         0.25                         4        12.28\n",
            "117           5         0.25                         4        12.86\n",
            "118           5         0.25                         4        12.92\n",
            "119           5         0.25                         4        16.62\n",
            "120           5         0.25                         4        14.65\n",
            "121           5         0.25                         5        28.61\n",
            "122           5         0.25                         5        32.46\n",
            "123           5         0.25                         5        29.39\n",
            "124           5         0.25                         5        25.49\n",
            "125           5         0.25                         5        38.65\n",
            "126           5         0.25                         5        36.70\n",
            "127           5         0.25                         5        12.02\n",
            "128           5         0.25                         5        12.27\n",
            "129           5         0.25                         5        12.47\n",
            "130           5         0.25                         5        13.02\n",
            "131           5         0.25                         5        16.92\n",
            "132           5         0.25                         5        13.86\n",
            "133           5         0.40                         1        32.53\n",
            "134           5         0.40                         1        35.96\n",
            "135           5         0.40                         1        31.29\n",
            "136           5         0.40                         1        28.65\n",
            "137           5         0.40                         1        41.67\n",
            "138           5         0.40                         1        40.43\n",
            "139           5         0.40                         1        14.55\n",
            "140           5         0.40                         1        14.58\n",
            "141           5         0.40                         1        14.42\n",
            "142           5         0.40                         1        15.23\n",
            "143           5         0.40                         1        19.42\n",
            "144           5         0.40                         1        17.14\n",
            "145           5         0.40                         2        32.72\n",
            "146           5         0.40                         2        35.69\n",
            "147           5         0.40                         2        31.64\n",
            "148           5         0.40                         2        28.01\n",
            "149           5         0.40                         2        41.92\n",
            "150           5         0.40                         2        40.42\n",
            "151           5         0.40                         2        14.50\n",
            "152           5         0.40                         2        14.71\n",
            "153           5         0.40                         2        14.62\n",
            "154           5         0.40                         2        15.30\n",
            "155           5         0.40                         2        19.12\n",
            "156           5         0.40                         2        17.15\n",
            "157           5         0.40                         3        32.75\n",
            "158           5         0.40                         3        34.29\n",
            "159           5         0.40                         3        31.84\n",
            "160           5         0.40                         3        28.91\n",
            "161           5         0.40                         3        42.08\n",
            "162           5         0.40                         3        39.68\n",
            "163           5         0.40                         3        13.78\n",
            "164           5         0.40                         3        13.86\n",
            "165           5         0.40                         3        14.08\n",
            "166           5         0.40                         3        14.90\n",
            "167           5         0.40                         3        18.46\n",
            "168           5         0.40                         3        16.74\n",
            "169           5         0.40                         4        32.74\n",
            "170           5         0.40                         4        36.57\n",
            "171           5         0.40                         4        32.75\n",
            "172           5         0.40                         4        29.52\n",
            "173           5         0.40                         4        42.96\n",
            "174           5         0.40                         4        40.11\n",
            "175           5         0.40                         4        14.44\n",
            "176           5         0.40                         4        14.66\n",
            "177           5         0.40                         4        14.71\n",
            "178           5         0.40                         4        15.30\n",
            "179           5         0.40                         4        18.84\n",
            "180           5         0.40                         4        16.77\n",
            "181           5         0.40                         5        32.73\n",
            "182           5         0.40                         5        35.24\n",
            "183           5         0.40                         5        32.06\n",
            "184           5         0.40                         5        29.92\n",
            "185           5         0.40                         5        40.79\n",
            "186           5         0.40                         5        39.86\n",
            "187           5         0.40                         5        14.39\n",
            "188           5         0.40                         5        12.42\n",
            "189           5         0.40                         5        14.21\n",
            "190           5         0.40                         5        15.16\n",
            "191           5         0.40                         5        17.88\n",
            "192           5         0.40                         5        16.64\n",
            "    Cooling.Load\n",
            "1          21.33\n",
            "2          29.60\n",
            "3          27.87\n",
            "4          24.93\n",
            "5          39.44\n",
            "6          29.40\n",
            "7          11.17\n",
            "8          11.67\n",
            "9          11.93\n",
            "10         12.14\n",
            "11         16.67\n",
            "12         12.04\n",
            "13         26.29\n",
            "14         34.33\n",
            "15         31.73\n",
            "16         28.51\n",
            "17         43.33\n",
            "18         33.67\n",
            "19         13.70\n",
            "20         14.27\n",
            "21         14.45\n",
            "22         13.65\n",
            "23         19.32\n",
            "24         14.27\n",
            "25         25.89\n",
            "26         34.20\n",
            "27         31.90\n",
            "28         28.79\n",
            "29         42.86\n",
            "30         33.78\n",
            "31         13.79\n",
            "32         14.21\n",
            "33         13.51\n",
            "34         14.74\n",
            "35         19.30\n",
            "36         14.24\n",
            "37         26.14\n",
            "38         29.67\n",
            "39         27.40\n",
            "40         24.93\n",
            "41         34.29\n",
            "42         34.50\n",
            "43         13.49\n",
            "44         13.87\n",
            "45         14.40\n",
            "46         13.83\n",
            "47         19.29\n",
            "48         13.89\n",
            "49         25.87\n",
            "50         29.92\n",
            "51         25.81\n",
            "52         25.16\n",
            "53         35.29\n",
            "54         34.05\n",
            "55         13.53\n",
            "56         14.20\n",
            "57         14.73\n",
            "58         14.83\n",
            "59         19.48\n",
            "60         14.47\n",
            "61         26.18\n",
            "62         33.01\n",
            "63         31.28\n",
            "64         27.69\n",
            "65         41.26\n",
            "66         33.88\n",
            "67         13.50\n",
            "68         13.89\n",
            "69         14.39\n",
            "70         14.87\n",
            "71         19.29\n",
            "72         14.15\n",
            "73         29.49\n",
            "74         37.58\n",
            "75         34.73\n",
            "76         31.39\n",
            "77         45.52\n",
            "78         36.62\n",
            "79         15.50\n",
            "80         15.81\n",
            "81         15.78\n",
            "82         16.19\n",
            "83         21.08\n",
            "84         15.76\n",
            "85         30.02\n",
            "86         37.72\n",
            "87         34.52\n",
            "88         29.88\n",
            "89         45.97\n",
            "90         36.81\n",
            "91         15.44\n",
            "92         15.32\n",
            "93         15.99\n",
            "94         15.87\n",
            "95         20.43\n",
            "96         15.30\n",
            "97         30.19\n",
            "98         32.46\n",
            "99         29.82\n",
            "100        26.41\n",
            "101        36.87\n",
            "102        37.29\n",
            "103        14.76\n",
            "104        14.94\n",
            "105        15.17\n",
            "106        16.26\n",
            "107        20.28\n",
            "108        14.35\n",
            "109        30.12\n",
            "110        33.16\n",
            "111        28.31\n",
            "112        27.34\n",
            "113        37.26\n",
            "114        37.51\n",
            "115        15.35\n",
            "116        15.64\n",
            "117        16.13\n",
            "118        16.14\n",
            "119        19.90\n",
            "120        15.38\n",
            "121        30.20\n",
            "122        35.62\n",
            "123        33.47\n",
            "124        28.14\n",
            "125        43.73\n",
            "126        36.15\n",
            "127        14.03\n",
            "128        14.97\n",
            "129        14.60\n",
            "130        16.06\n",
            "131        20.29\n",
            "132        14.75\n",
            "133        33.04\n",
            "134        40.99\n",
            "135        36.73\n",
            "136        33.54\n",
            "137        46.94\n",
            "138        39.48\n",
            "139        17.25\n",
            "140        17.47\n",
            "141        17.20\n",
            "142        17.95\n",
            "143        22.53\n",
            "144        17.20\n",
            "145        33.78\n",
            "146        40.66\n",
            "147        36.86\n",
            "148        32.92\n",
            "149        48.03\n",
            "150        39.70\n",
            "151        17.03\n",
            "152        17.51\n",
            "153        17.22\n",
            "154        18.15\n",
            "155        21.93\n",
            "156        16.99\n",
            "157        34.00\n",
            "158        33.31\n",
            "159        31.60\n",
            "160        29.64\n",
            "161        38.23\n",
            "162        40.10\n",
            "163        16.60\n",
            "164        16.10\n",
            "165        17.02\n",
            "166        18.22\n",
            "167        21.53\n",
            "168        16.00\n",
            "169        33.88\n",
            "170        36.10\n",
            "171        31.00\n",
            "172        28.43\n",
            "173        39.56\n",
            "174        40.77\n",
            "175        17.32\n",
            "176        17.74\n",
            "177        17.39\n",
            "178        18.24\n",
            "179        22.49\n",
            "180        16.79\n",
            "181        34.01\n",
            "182        37.27\n",
            "183        35.71\n",
            "184        32.54\n",
            "185        44.87\n",
            "186        38.18\n",
            "187        16.70\n",
            "188        15.31\n",
            "189        16.74\n",
            "190        18.06\n",
            "191        21.40\n",
            "192        16.03\n"
          ]
        }
      ]
    },
    {
      "cell_type": "markdown",
      "source": [
        "Using the 'Filter' function to call rows that meet certain arguments"
      ],
      "metadata": {
        "id": "WDka1DTH9Vav"
      }
    },
    {
      "cell_type": "code",
      "source": [
        "summary_data <- energy_dataset %>%\n",
        "  group_by(`Heating.Load`) %>%\n",
        "  summarise(mean_relative_compactness = mean(`Relative.Compactness`))\n",
        "\n",
        "print(summary_data)\n"
      ],
      "metadata": {
        "colab": {
          "base_uri": "https://localhost:8080/"
        },
        "id": "cE4n8FCxJ10G",
        "outputId": "cd1f52e1-5dcb-437b-88c9-64bac813eb49"
      },
      "execution_count": 49,
      "outputs": [
        {
          "output_type": "stream",
          "name": "stdout",
          "text": [
            "\u001b[90m# A tibble: 586 × 2\u001b[39m\n",
            "   Heating.Load mean_relative_compactness\n",
            "          \u001b[3m\u001b[90m<dbl>\u001b[39m\u001b[23m                     \u001b[3m\u001b[90m<dbl>\u001b[39m\u001b[23m\n",
            "\u001b[90m 1\u001b[39m         6.01                      0.74\n",
            "\u001b[90m 2\u001b[39m         6.04                      0.74\n",
            "\u001b[90m 3\u001b[39m         6.05                      0.74\n",
            "\u001b[90m 4\u001b[39m         6.07                      0.74\n",
            "\u001b[90m 5\u001b[39m         6.37                      0.71\n",
            "\u001b[90m 6\u001b[39m         6.4                       0.71\n",
            "\u001b[90m 7\u001b[39m         6.77                      0.69\n",
            "\u001b[90m 8\u001b[39m         6.79                      0.69\n",
            "\u001b[90m 9\u001b[39m         6.81                      0.69\n",
            "\u001b[90m10\u001b[39m         6.85                      0.69\n",
            "\u001b[90m# ℹ 576 more rows\u001b[39m\n"
          ]
        }
      ]
    },
    {
      "cell_type": "markdown",
      "source": [
        "Using the summarise function to to produce a row for each of the grouped data"
      ],
      "metadata": {
        "id": "s25puAQR9zAl"
      }
    },
    {
      "cell_type": "code",
      "source": [
        "install.packages(\"tidyr\")"
      ],
      "metadata": {
        "colab": {
          "base_uri": "https://localhost:8080/"
        },
        "id": "iiVAhGbLKh8Q",
        "outputId": "e20622a1-2449-49b7-c6b5-67dbe0dee60c"
      },
      "execution_count": 5,
      "outputs": [
        {
          "output_type": "stream",
          "name": "stderr",
          "text": [
            "Installing package into ‘/usr/local/lib/R/site-library’\n",
            "(as ‘lib’ is unspecified)\n",
            "\n"
          ]
        }
      ]
    },
    {
      "cell_type": "code",
      "source": [
        "library(tidyr)"
      ],
      "metadata": {
        "id": "zc0kjGlAKkNe"
      },
      "execution_count": 3,
      "outputs": []
    },
    {
      "cell_type": "code",
      "source": [
        "Using the tidyr package to create tidy data. Tidy data is data where: Each variable is a column; each column is a variable."
      ],
      "metadata": {
        "id": "q2nqvRwd-Y50"
      },
      "execution_count": null,
      "outputs": []
    },
    {
      "cell_type": "code",
      "source": [
        "clean_data <- energy_dataset %>%\n",
        "  mutate(House_ID = 1:nrow(energy_dataset)) %>%\n",
        "  pivot_longer(cols = c(Surface.Area, Wall.Area, Roof.Area), names_to = \"Area_Type\", values_to = \"Area\") %>%\n",
        "  filter (Area > 500)"
      ],
      "metadata": {
        "id": "XnXwJtncKpSo"
      },
      "execution_count": 18,
      "outputs": []
    },
    {
      "cell_type": "code",
      "source": [
        "result <- sqldf(\"Select * From clean_data  limit 10\")\n",
        "print(result)"
      ],
      "metadata": {
        "colab": {
          "base_uri": "https://localhost:8080/"
        },
        "id": "wPgWB4zi6sKi",
        "outputId": "9517875a-365e-4e64-a2e5-044b098936ee"
      },
      "execution_count": 19,
      "outputs": [
        {
          "output_type": "stream",
          "name": "stdout",
          "text": [
            "   Relative.Compactness Overall.Height Orientation Glazing.Area\n",
            "1                  0.98              7           2            0\n",
            "2                  0.98              7           3            0\n",
            "3                  0.98              7           4            0\n",
            "4                  0.98              7           5            0\n",
            "5                  0.90              7           2            0\n",
            "6                  0.90              7           3            0\n",
            "7                  0.90              7           4            0\n",
            "8                  0.90              7           5            0\n",
            "9                  0.86              7           2            0\n",
            "10                 0.86              7           3            0\n",
            "   Glazing.Area.Distribution Heating.Load Cooling.Load House_ID    Area_Type\n",
            "1                          0        15.55        21.33        1 Surface.Area\n",
            "2                          0        15.55        21.33        2 Surface.Area\n",
            "3                          0        15.55        21.33        3 Surface.Area\n",
            "4                          0        15.55        21.33        4 Surface.Area\n",
            "5                          0        20.84        28.28        5 Surface.Area\n",
            "6                          0        21.46        25.38        6 Surface.Area\n",
            "7                          0        20.71        25.16        7 Surface.Area\n",
            "8                          0        19.68        29.60        8 Surface.Area\n",
            "9                          0        19.50        27.30        9 Surface.Area\n",
            "10                         0        19.95        21.97       10 Surface.Area\n",
            "    Area\n",
            "1  514.5\n",
            "2  514.5\n",
            "3  514.5\n",
            "4  514.5\n",
            "5  563.5\n",
            "6  563.5\n",
            "7  563.5\n",
            "8  563.5\n",
            "9  588.0\n",
            "10 588.0\n"
          ]
        }
      ]
    },
    {
      "cell_type": "markdown",
      "source": [
        "The above data is a result of using mutate function to create a new column with the 'House_Id' and using the 'pivot_longer' function to reduce the table width by showing data availble in columns, in rows"
      ],
      "metadata": {
        "id": "a2r1rto8D708"
      }
    },
    {
      "cell_type": "code",
      "source": [
        "install.packages(\"ggplot2\")"
      ],
      "metadata": {
        "colab": {
          "base_uri": "https://localhost:8080/"
        },
        "id": "JuAFigFOEi1n",
        "outputId": "46c69d4d-d0f4-4d52-c2dd-2dc197f20a65"
      },
      "execution_count": 20,
      "outputs": [
        {
          "output_type": "stream",
          "name": "stderr",
          "text": [
            "Installing package into ‘/usr/local/lib/R/site-library’\n",
            "(as ‘lib’ is unspecified)\n",
            "\n"
          ]
        }
      ]
    },
    {
      "cell_type": "code",
      "source": [
        "library(ggplot2)"
      ],
      "metadata": {
        "id": "NxixaQiPEy89"
      },
      "execution_count": 21,
      "outputs": []
    },
    {
      "cell_type": "markdown",
      "source": [
        "Importing ggplot2 to visualize data"
      ],
      "metadata": {
        "id": "zFGgGqMGO_16"
      }
    },
    {
      "cell_type": "code",
      "source": [
        "ggplot(energy_dataset, aes(x = `Surface.Area`, y = `Cooling.Load`)) +\n",
        "  geom_point(color = \"skyblue\") +  # Using geom_point for scatter plot\n",
        "  labs(title = \"Cooling Load Per Surface Area\", x = \"Surface Area\", y = \"Cooling Load\") +\n",
        "  theme_minimal() +\n",
        "  theme(plot.title = element_text(hjust = 0.5))  # Centering the title"
      ],
      "metadata": {
        "colab": {
          "base_uri": "https://localhost:8080/",
          "height": 437
        },
        "id": "Dy5oIpoeE2hT",
        "outputId": "c1059158-5b6b-4af1-ea42-5ab5943425fc"
      },
      "execution_count": 22,
      "outputs": [
        {
          "output_type": "display_data",
          "data": {
            "text/plain": [
              "plot without title"
            ],
            "image/png": "[encoded data removed]"
          },
          "metadata": {
            "image/png": {
              "width": 420,
              "height": 420
            }
          }
        }
      ]
    },
    {
      "cell_type": "markdown",
      "source": [
        "Using the geom_point function to create a scatter plot with the given arguments\n"
      ],
      "metadata": {
        "id": "P1Ebioq5PHaE"
      }
    },
    {
      "cell_type": "code",
      "source": [
        "ggplot(energy_dataset, aes(x = `Heating.Load`)) +\n",
        "  geom_histogram(binwidth = 0.5, fill = \"blue\", color = \"black\") +\n",
        "  labs(\n",
        "    title = \"Histogram of Heating Load\",\n",
        "    x = \"Heating Load\",\n",
        "    y = \"Frequency\"\n",
        "  )+\n",
        "  theme(plot.title = element_text(hjust = 0.5))  # Centering the title"
      ],
      "metadata": {
        "colab": {
          "base_uri": "https://localhost:8080/",
          "height": 437
        },
        "id": "4q8uTjRlPQht",
        "outputId": "4b2d68bb-149a-4601-bbe5-c147ef65b583"
      },
      "execution_count": 24,
      "outputs": [
        {
          "output_type": "display_data",
          "data": {
            "text/plain": [
              "plot without title"
            ],
            "image/png": "[encoded data removed]"
          },
          "metadata": {
            "image/png": {
              "width": 420,
              "height": 420
            }
          }
        }
      ]
    },
    {
      "cell_type": "markdown",
      "source": [
        "Above code is to create a histogram of the frequency of heating load avaialble in the given dataset"
      ],
      "metadata": {
        "id": "Dft15LStPlaU"
      }
    },
    {
      "cell_type": "code",
      "source": [
        "ggplot(energy_dataset, aes(x = factor(Wall.Area), y = Cooling.Load)) +\n",
        "  geom_boxplot(fill=\"lightblue\") +\n",
        "  labs(title=\"Boxplot of Cooling Load by Wall Area\", x=\"Wall Area\", y=\"Cooling Load\")+\n",
        "  theme(plot.title = element_text(hjust = 0.5))  # Centering the title"
      ],
      "metadata": {
        "colab": {
          "base_uri": "https://localhost:8080/",
          "height": 437
        },
        "id": "SzOsZ1ESPycL",
        "outputId": "7941143f-7e66-446d-8510-11ccf47341ee"
      },
      "execution_count": 25,
      "outputs": [
        {
          "output_type": "display_data",
          "data": {
            "text/plain": [
              "plot without title"
            ],
            "image/png": "[encoded data removed]"
          },
          "metadata": {
            "image/png": {
              "width": 420,
              "height": 420
            }
          }
        }
      ]
    },
    {
      "cell_type": "markdown",
      "source": [
        "Using geom_boxplot function to create a boxplot graph showing the summary of distribution"
      ],
      "metadata": {
        "id": "LBkuI1YcP_-b"
      }
    },
    {
      "cell_type": "code",
      "source": [
        "platform_bar <- ggplot(energy_dataset, aes(x = Wall.Area, y = Cooling.Load)) +\n",
        "  geom_bar(stat = \"identity\", fill = \"skyblue\") +\n",
        "  labs(title = \"Total cooling load by wall area\", x = \"wall area\", y = \"cooling load\") +\n",
        "  theme_minimal()+\n",
        "  theme(plot.title = element_text(hjust = 0.5))  # Centering the title\n",
        "\n",
        "print(platform_bar)"
      ],
      "metadata": {
        "colab": {
          "base_uri": "https://localhost:8080/",
          "height": 437
        },
        "id": "pxW1WMjSQO-k",
        "outputId": "27b15411-24e1-4aac-dff1-48f233bc04d1"
      },
      "execution_count": 28,
      "outputs": [
        {
          "output_type": "display_data",
          "data": {
            "text/plain": [
              "plot without title"
            ],
            "image/png": "[encoded data removed]"
          },
          "metadata": {
            "image/png": {
              "width": 420,
              "height": 420
            }
          }
        }
      ]
    },
    {
      "cell_type": "markdown",
      "source": [
        "creating a bar chart using the geom_bar function to measure the total cooling load by the wall area"
      ],
      "metadata": {
        "id": "bSjMXfVGQSfM"
      }
    }
  ]
}