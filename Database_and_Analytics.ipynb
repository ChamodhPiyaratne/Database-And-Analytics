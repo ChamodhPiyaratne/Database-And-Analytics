{
  "nbformat": 4,
  "nbformat_minor": 0,
  "metadata": {
    "colab": {
      "provenance": [],
      "authorship_tag": "ABX9TyMzka8RXFYZOBFSUrkFfPM9",
      "include_colab_link": true
    },
    "kernelspec": {
      "name": "ir",
      "display_name": "R"
    },
    "language_info": {
      "name": "R"
    }
  },
  "cells": [
    {
      "cell_type": "markdown",
      "metadata": {
        "id": "view-in-github",
        "colab_type": "text"
      },
      "source": [
        "<a href=\"https://colab.research.google.com/github/ChamodhPiyaratne/Database-And-Analytics/blob/main/Database_and_Analytics.ipynb\" target=\"_parent\"><img src=\"https://colab.research.google.com/assets/colab-badge.svg\" alt=\"Open In Colab\"/></a>"
      ]
    },
    {
      "cell_type": "code",
      "execution_count": null,
      "metadata": {
        "colab": {
          "base_uri": "https://localhost:8080/"
        },
        "collapsed": true,
        "id": "5i2e-YwnQ-wk",
        "outputId": "912a9735-efe6-4b48-af06-e3f98c4f82ee"
      },
      "outputs": [
        {
          "output_type": "stream",
          "name": "stderr",
          "text": [
            "Installing package into ‘/usr/local/lib/R/site-library’\n",
            "(as ‘lib’ is unspecified)\n",
            "\n"
          ]
        }
      ],
      "source": [
        "install.packages(\"RCurl\")\n",
        "\n"
      ]
    },
    {
      "cell_type": "markdown",
      "source": [
        "In order to upload the '.csv' file energy_dataset we can use the RCurl package which can be used to transfer data using urls, for this purpose we will be taking in file energy_dataset from our github repository.\n",
        "\n"
      ],
      "metadata": {
        "id": "8qtDqRl1f7x2"
      }
    },
    {
      "cell_type": "code",
      "source": [
        "# Call in the RCurl library to import the dataset\n",
        "library(RCurl)\n",
        "\n",
        "# import the csv file from the github repository to the variable 'energy_dataset'\n",
        "energy_dataset <- \"https://raw.githubusercontent.com/ChamodhPiyaratne/Database-And-Analytics/main/Energy_dataset.csv\"\n",
        "\n",
        "# Read the CSV content directly from the retrieved text\n",
        "dataset <- read.csv(text = getURL(energy_dataset))\n",
        "\n",
        "# Display the first 10 rows of the dataset\n",
        "print(head(dataset, 10))\n",
        "\n",
        "\n"
      ],
      "metadata": {
        "colab": {
          "base_uri": "https://localhost:8080/"
        },
        "id": "_vG3QkDmh5pU",
        "outputId": "d73e3bb9-eb71-4551-800f-ae65e8bf535a"
      },
      "execution_count": null,
      "outputs": [
        {
          "output_type": "stream",
          "name": "stdout",
          "text": [
            "   Relative.Compactness Surface.Area Wall.Area Roof.Area Overall.Height\n",
            "1                  0.98        514.5     294.0    110.25              7\n",
            "2                  0.98        514.5     294.0    110.25              7\n",
            "3                  0.98        514.5     294.0    110.25              7\n",
            "4                  0.98        514.5     294.0    110.25              7\n",
            "5                  0.90        563.5     318.5    122.50              7\n",
            "6                  0.90        563.5     318.5    122.50              7\n",
            "7                  0.90        563.5     318.5    122.50              7\n",
            "8                  0.90        563.5     318.5    122.50              7\n",
            "9                  0.86        588.0     294.0    147.00              7\n",
            "10                 0.86        588.0     294.0    147.00              7\n",
            "   Orientation Glazing.Area Glazing.Area.Distribution Heating.Load Cooling.Load\n",
            "1            2            0                         0        15.55        21.33\n",
            "2            3            0                         0        15.55        21.33\n",
            "3            4            0                         0        15.55        21.33\n",
            "4            5            0                         0        15.55        21.33\n",
            "5            2            0                         0        20.84        28.28\n",
            "6            3            0                         0        21.46        25.38\n",
            "7            4            0                         0        20.71        25.16\n",
            "8            5            0                         0        19.68        29.60\n",
            "9            2            0                         0        19.50        27.30\n",
            "10           3            0                         0        19.95        21.97\n"
          ]
        }
      ]
    },
    {
      "cell_type": "markdown",
      "source": [
        "The above code shows the process of using RCurl to import the dataset and will be processed as a '.csv' file, the first 10 rows of the dataset are shown below"
      ],
      "metadata": {
        "id": "iVL3kyw3pnDc"
      }
    }
  ]
}